{
 "cells": [
  {
   "cell_type": "code",
   "execution_count": 1,
   "metadata": {},
   "outputs": [],
   "source": [
    "import cv2\n",
    "import matplotlib.pyplot as plt\n",
    "import numpy as np"
   ]
  },
  {
   "cell_type": "code",
   "execution_count": 2,
   "metadata": {},
   "outputs": [],
   "source": [
    "w = 800\n",
    "h = 600\n",
    "cap = cv2.VideoCapture(0)\n",
    "cap.set(3, w)\n",
    "cap.set(4, h)\n",
    "if(cap.isOpened()):\n",
    "    ret, frame = cap.read()\n",
    "else:\n",
    "    ret = False\n",
    "ret, frame1 = cap.read()\n",
    "ret, frame2 = cap.read()\n",
    "while(ret):\n",
    "    d = cv2.absdiff(frame1, frame2)\n",
    "    grey = cv2.cvtColor(d, cv2.COLOR_BGR2GRAY)\n",
    "    blur = cv2.GaussianBlur(grey, (5, 5), 0)\n",
    "    ret, th = cv2.threshold(blur, 20, 255, cv2.THRESH_BINARY)\n",
    "    dilated = cv2.dilate(th, np.ones((3, 3), np.uint8), iterations = 50)\n",
    "    eroded = cv2.erode(dilated, np.ones((3, 3), np.uint8), iterations = 15)\n",
    "    img, c, h = cv2.findContours(eroded, cv2.RETR_TREE, cv2.CHAIN_APPROX_SIMPLE)\n",
    "    cv2.drawContours(frame1, c, -1, (0, 0, 255), 2)\n",
    "    cv2.imshow(\"Original\", frame2)\n",
    "    cv2.imshow(\"Intermediate\", frame1)\n",
    "    if(cv2.waitKey(1) == 27):\n",
    "        break\n",
    "    frame1 = frame2\n",
    "    ret, frame2 = cap.read()\n",
    "cv2.destroyAllWindows()\n",
    "cap.release()"
   ]
  }
 ],
 "metadata": {
  "kernelspec": {
   "display_name": "Python 3",
   "language": "python",
   "name": "python3"
  },
  "language_info": {
   "codemirror_mode": {
    "name": "ipython",
    "version": 3
   },
   "file_extension": ".py",
   "mimetype": "text/x-python",
   "name": "python",
   "nbconvert_exporter": "python",
   "pygments_lexer": "ipython3",
   "version": "3.7.0"
  }
 },
 "nbformat": 4,
 "nbformat_minor": 2
}
