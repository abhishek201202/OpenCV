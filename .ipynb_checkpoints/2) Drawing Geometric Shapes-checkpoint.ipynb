{
 "cells": [
  {
   "cell_type": "code",
   "execution_count": 1,
   "metadata": {},
   "outputs": [],
   "source": [
    "import numpy as np\n",
    "import cv2"
   ]
  },
  {
   "cell_type": "markdown",
   "metadata": {},
   "source": [
    "## 1) Creating a blank background"
   ]
  },
  {
   "cell_type": "code",
   "execution_count": 2,
   "metadata": {},
   "outputs": [],
   "source": [
    "img1 = np.zeros((512, 512, 3), np.uint8)\n",
    "cv2.imshow('blank', img1)\n",
    "cv2.waitKey(0)\n",
    "cv2.destroyWindow('blank')"
   ]
  },
  {
   "cell_type": "markdown",
   "metadata": {},
   "source": [
    "## 2) Drawing Line"
   ]
  },
  {
   "cell_type": "code",
   "execution_count": 3,
   "metadata": {},
   "outputs": [],
   "source": [
    "cv2.line(img1, (0, 99), (99, 0), (255, 0, 0), 2)\n",
    "## cv2.line(img1, (x1, y1), (x2, y2), (color code), thickness)\n",
    "cv2.imshow('blank', img1)\n",
    "cv2.waitKey(0)\n",
    "cv2.destroyWindow('blank')"
   ]
  },
  {
   "cell_type": "markdown",
   "metadata": {},
   "source": [
    "## 3) Drawing Rectangle"
   ]
  },
  {
   "cell_type": "code",
   "execution_count": 4,
   "metadata": {},
   "outputs": [],
   "source": [
    "cv2.rectangle(img1, (40, 60), (80, 70), (0, 255, 0), 2)\n",
    "## cv2.rectangle(img1, (x1, y1), (x2, y2), (color code), thickness)\n",
    "cv2.imshow('blank', img1)\n",
    "cv2.waitKey(0)\n",
    "cv2.destroyWindow('blank')"
   ]
  },
  {
   "cell_type": "markdown",
   "metadata": {},
   "source": [
    "## 4) Drawing circle"
   ]
  },
  {
   "cell_type": "code",
   "execution_count": 5,
   "metadata": {},
   "outputs": [],
   "source": [
    "cv2.circle(img1, (60, 60), 50, (0, 0, 255), 5)\n",
    "## cv2.rectangle(img1, (x, y), radius, (color code), thickness)\n",
    "cv2.imshow('blank', img1)\n",
    "cv2.waitKey(0)\n",
    "cv2.destroyWindow('blank')"
   ]
  },
  {
   "cell_type": "code",
   "execution_count": 6,
   "metadata": {},
   "outputs": [],
   "source": [
    "cv2.circle(img1, (100, 10), 10, (0, 0, 255), -1)\n",
    "## cv2.rectangle(img1, (x, y), radius, (color code), thickness)\n",
    "## -1 is used to fill the whole circle\n",
    "cv2.imshow('blank', img1)\n",
    "cv2.waitKey(0)\n",
    "cv2.destroyWindow('blank')"
   ]
  },
  {
   "cell_type": "markdown",
   "metadata": {},
   "source": [
    "## 5) Drawing eclipse"
   ]
  },
  {
   "cell_type": "code",
   "execution_count": 7,
   "metadata": {},
   "outputs": [],
   "source": [
    "cv2.ellipse(img1, (160, 260), (50, 20), 0, 0, 360, (127, 127, 127), -1)\n",
    "## cv2.ellipse(img1, (x, y), (major axis, minor axis), x axis rotation, y axis rotation, \n",
    "#     angle to be display, (color code), thickness)\n",
    "cv2.imshow('blank', img1)\n",
    "cv2.waitKey(0)\n",
    "cv2.destroyWindow('blank')"
   ]
  },
  {
   "cell_type": "code",
   "execution_count": 8,
   "metadata": {},
   "outputs": [],
   "source": [
    "cv2.ellipse(img1, (125, 200), (50, 20), 20, 50, 360, (127, 127, 127), -1)\n",
    "cv2.imshow('blank', img1)\n",
    "cv2.waitKey(0)\n",
    "cv2.destroyWindow('blank')"
   ]
  },
  {
   "cell_type": "markdown",
   "metadata": {},
   "source": [
    "## 6) Drawing Polygon"
   ]
  },
  {
   "cell_type": "code",
   "execution_count": 9,
   "metadata": {},
   "outputs": [
    {
     "name": "stdout",
     "output_type": "stream",
     "text": [
      "(5, 1, 2)\n"
     ]
    },
    {
     "data": {
      "text/plain": [
       "array([[[ 80,   2]],\n",
       "\n",
       "       [[125,   0]],\n",
       "\n",
       "       [[179,   0]],\n",
       "\n",
       "       [[230,   5]],\n",
       "\n",
       "       [[ 30,  50]]])"
      ]
     },
     "execution_count": 9,
     "metadata": {},
     "output_type": "execute_result"
    }
   ],
   "source": [
    "points = np.array([[80, 2], [125, 0], [179, 0], [230, 5], [30, 50]], np.int32)\n",
    "points = points.reshape((-1, 1, 2))\n",
    "print(points.shape)\n",
    "points"
   ]
  },
  {
   "cell_type": "code",
   "execution_count": 10,
   "metadata": {},
   "outputs": [],
   "source": [
    "cv2.polylines(img1, [points], True, (0, 255, 255))\n",
    "## (img1, points, True, color code)\n",
    "cv2.imshow('blank', img1)\n",
    "cv2.waitKey(0)\n",
    "cv2.destroyWindow('blank')"
   ]
  },
  {
   "cell_type": "markdown",
   "metadata": {},
   "source": [
    "## 7) Writing Text"
   ]
  },
  {
   "cell_type": "code",
   "execution_count": 11,
   "metadata": {},
   "outputs": [],
   "source": [
    "text1 = 'hello'\n",
    "cv2.putText(img1, text1, (100, 100), cv2.FONT_HERSHEY_SIMPLEX, 5, (255, 255, 0))\n",
    "cv2.imshow('blank', img1)\n",
    "cv2.waitKey(0)\n",
    "cv2.destroyWindow('blank')"
   ]
  }
 ],
 "metadata": {
  "kernelspec": {
   "display_name": "Python 3",
   "language": "python",
   "name": "python3"
  },
  "language_info": {
   "codemirror_mode": {
    "name": "ipython",
    "version": 3
   },
   "file_extension": ".py",
   "mimetype": "text/x-python",
   "name": "python",
   "nbconvert_exporter": "python",
   "pygments_lexer": "ipython3",
   "version": "3.7.0"
  }
 },
 "nbformat": 4,
 "nbformat_minor": 2
}
