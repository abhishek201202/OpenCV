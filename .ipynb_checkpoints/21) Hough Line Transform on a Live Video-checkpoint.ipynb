{
 "cells": [
  {
   "cell_type": "code",
   "execution_count": 1,
   "metadata": {},
   "outputs": [],
   "source": [
    "import cv2\n",
    "import numpy as np"
   ]
  },
  {
   "cell_type": "code",
   "execution_count": 2,
   "metadata": {},
   "outputs": [],
   "source": [
    "windowName = \"Preview\"\n",
    "cap = cv2.VideoCapture(0)\n",
    "if(cap.isOpened()):\n",
    "    ret, frame = cap.read()\n",
    "else:\n",
    "    ret = False\n",
    "    \n",
    "while(ret):\n",
    "    ret, frame = cap.read()\n",
    "    grey = cv2.cvtColor(frame, cv2.COLOR_BGR2GRAY)\n",
    "    edges = cv2.Canny(grey, 50, 250, apertureSize = 5, L2gradient = True)\n",
    "    lines = cv2.HoughLines(edges, 1, np.pi / 180, 250)\n",
    "    if(lines is not None):\n",
    "        for rho, theta in lines[0]:\n",
    "            a = np.cos(theta)\n",
    "            b = np.sin(theta)\n",
    "            x0 = a * rho\n",
    "            y0 = b * rho\n",
    "            pts1 = (int(x0 + 1000*(-b)), int(y0 + 1000*a))\n",
    "            pts2 = (int(x0 - 1000*(-b)), int(y0 - 1000*a))\n",
    "            cv2.line(frame, pts1, pts2, (0, 255, 0), 3)\n",
    "    cv2.imshow(windowName, edges)\n",
    "    cv2.imshow(windowName, frame)\n",
    "    if(cv2.waitKey(1) == 27):\n",
    "        break\n",
    "cv2.destroyAllWindows()\n",
    "cap.release()"
   ]
  }
 ],
 "metadata": {
  "kernelspec": {
   "display_name": "Python 3",
   "language": "python",
   "name": "python3"
  },
  "language_info": {
   "codemirror_mode": {
    "name": "ipython",
    "version": 3
   },
   "file_extension": ".py",
   "mimetype": "text/x-python",
   "name": "python",
   "nbconvert_exporter": "python",
   "pygments_lexer": "ipython3",
   "version": "3.7.0"
  }
 },
 "nbformat": 4,
 "nbformat_minor": 2
}
