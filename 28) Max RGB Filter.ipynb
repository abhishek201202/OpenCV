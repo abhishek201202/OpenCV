{
 "cells": [
  {
   "cell_type": "code",
   "execution_count": 1,
   "metadata": {},
   "outputs": [],
   "source": [
    "import cv2\n",
    "import matplotlib.pyplot as plt\n",
    "import numpy as np"
   ]
  },
  {
   "cell_type": "code",
   "execution_count": 2,
   "metadata": {},
   "outputs": [],
   "source": [
    "w = 800\n",
    "h = 600\n",
    "cap = cv2.VideoCapture(0)\n",
    "cap.set(3, w)\n",
    "cap.set(4, h)\n",
    "if(cap.isOpened()):\n",
    "    ret, frame = cap.read()\n",
    "else:\n",
    "    ret = False\n",
    "while(ret):\n",
    "    ret, frame = cap.read()\n",
    "    B, G, R = cv2.split(frame)\n",
    "    M = np.maximum(np.maximum(R, G), B)\n",
    "    R[R < M] = 0\n",
    "    G[G < M] = 0\n",
    "    B[B < M] = 0\n",
    "    output = cv2.merge((B, G, R))\n",
    "    cv2.imshow(\"Original\", output)\n",
    "    if(cv2.waitKey(1) == 27):\n",
    "        break\n",
    "cv2.destroyAllWindows()\n",
    "cap.release()"
   ]
  }
 ],
 "metadata": {
  "kernelspec": {
   "display_name": "Python 3",
   "language": "python",
   "name": "python3"
  },
  "language_info": {
   "codemirror_mode": {
    "name": "ipython",
    "version": 3
   },
   "file_extension": ".py",
   "mimetype": "text/x-python",
   "name": "python",
   "nbconvert_exporter": "python",
   "pygments_lexer": "ipython3",
   "version": "3.7.0"
  }
 },
 "nbformat": 4,
 "nbformat_minor": 2
}
