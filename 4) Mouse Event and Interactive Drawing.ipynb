{
 "cells": [
  {
   "cell_type": "code",
   "execution_count": 2,
   "metadata": {},
   "outputs": [],
   "source": [
    "import cv2\n",
    "import numpy as np"
   ]
  },
  {
   "cell_type": "markdown",
   "metadata": {},
   "source": [
    "## 1) List all the events available in cv2"
   ]
  },
  {
   "cell_type": "code",
   "execution_count": 3,
   "metadata": {},
   "outputs": [
    {
     "data": {
      "text/plain": [
       "['EVENT_FLAG_ALTKEY',\n",
       " 'EVENT_FLAG_CTRLKEY',\n",
       " 'EVENT_FLAG_LBUTTON',\n",
       " 'EVENT_FLAG_MBUTTON',\n",
       " 'EVENT_FLAG_RBUTTON',\n",
       " 'EVENT_FLAG_SHIFTKEY',\n",
       " 'EVENT_LBUTTONDBLCLK',\n",
       " 'EVENT_LBUTTONDOWN',\n",
       " 'EVENT_LBUTTONUP',\n",
       " 'EVENT_MBUTTONDBLCLK',\n",
       " 'EVENT_MBUTTONDOWN',\n",
       " 'EVENT_MBUTTONUP',\n",
       " 'EVENT_MOUSEHWHEEL',\n",
       " 'EVENT_MOUSEMOVE',\n",
       " 'EVENT_MOUSEWHEEL',\n",
       " 'EVENT_RBUTTONDBLCLK',\n",
       " 'EVENT_RBUTTONDOWN',\n",
       " 'EVENT_RBUTTONUP']"
      ]
     },
     "execution_count": 3,
     "metadata": {},
     "output_type": "execute_result"
    }
   ],
   "source": [
    "events = [i for i in dir(cv2) if 'EVENT' in i]\n",
    "events"
   ]
  },
  {
   "cell_type": "code",
   "execution_count": 4,
   "metadata": {},
   "outputs": [
    {
     "name": "stdout",
     "output_type": "stream",
     "text": [
      "7\n"
     ]
    }
   ],
   "source": [
    "print(cv2.EVENT_LBUTTONDBLCLK)"
   ]
  },
  {
   "cell_type": "markdown",
   "metadata": {},
   "source": [
    "## 2) Playing with Mouse Event"
   ]
  },
  {
   "cell_type": "code",
   "execution_count": 36,
   "metadata": {},
   "outputs": [],
   "source": [
    "# create a blank image window\n",
    "img = np.zeros((512, 512, 3), np.uint8)\n",
    "windowName = 'Drawing'\n",
    "cv2.namedWindow(windowName)\n",
    "\n",
    "# bind the callback function to window \n",
    "cv2.setMouseCallback(windowName, draw_circle)"
   ]
  },
  {
   "cell_type": "code",
   "execution_count": 37,
   "metadata": {},
   "outputs": [],
   "source": [
    "# mouse callback function\n",
    "def draw_circle(event, x, y, flags, param):\n",
    "    if(event == cv2.EVENT_LBUTTONDBLCLK):\n",
    "        cv2.circle(img, (x, y), 40, (0, 250, 0), -1)\n",
    "    if(event == cv2.EVENT_MBUTTONDOWN):\n",
    "        cv2.circle(img, (x, y), 20, (0, 0, 255), -1)\n",
    "    if(event == cv2.EVENT_LBUTTONDOWN):\n",
    "        cv2.circle(img, (x, y), 30, (255, 0, 0), -1)"
   ]
  },
  {
   "cell_type": "code",
   "execution_count": 38,
   "metadata": {},
   "outputs": [],
   "source": [
    "def main():\n",
    "    while(1):\n",
    "        cv2.imshow(windowName, img)\n",
    "        if(cv2.waitKey(20) == 27):\n",
    "            break\n",
    "        \n",
    "    cv2.destroyAllWindows()\n",
    "    \n",
    "if(__name__ == \"__main__\"):\n",
    "    main()"
   ]
  },
  {
   "cell_type": "markdown",
   "metadata": {},
   "source": [
    "## 3) Combination of Mouse & Keyboard Events"
   ]
  },
  {
   "cell_type": "code",
   "execution_count": 44,
   "metadata": {},
   "outputs": [],
   "source": [
    "img = np.zeros((512, 512, 3), np.uint8)\n",
    "windowName = 'Drawing Demo'\n",
    "cv2.namedWindow(windowName)\n",
    "\n",
    "# true if mouse is pressed\n",
    "drawing = False\n",
    "\n",
    "# if True, draw rectangle. Press 'm' to toggle to curve\n",
    "mode = True \n",
    "(ix, iy) = (-1, -1)"
   ]
  },
  {
   "cell_type": "code",
   "execution_count": 45,
   "metadata": {},
   "outputs": [],
   "source": [
    "# mouse callback function\n",
    "def draw_shape(event, x, y, flags, param):\n",
    "    global ix, iy, drawing, mode\n",
    "    if event == cv2.EVENT_LBUTTONDOWN:\n",
    "        drawing = True\n",
    "        (ix, iy) = x, y\n",
    "    elif event == cv2.EVENT_MOUSEMOVE:\n",
    "        if drawing == True:\n",
    "            if mode == True:\n",
    "                cv2.rectangle(img, (ix, iy), (x, y), (0, 255, 0), -1)\n",
    "            else:\n",
    "                cv2.circle(img, (x, y), 5, (0, 0, 255), -1)\n",
    "    elif event == cv2.EVENT_LBUTTONUP:\n",
    "        drawing = False\n",
    "\n",
    "cv2.setMouseCallback(windowName, draw_shape)"
   ]
  },
  {
   "cell_type": "code",
   "execution_count": 46,
   "metadata": {},
   "outputs": [],
   "source": [
    "def main():\n",
    "    global mode\n",
    "    while(1):\n",
    "        cv2.imshow(windowName, img)\n",
    "        k = cv2.waitKey(1)\n",
    "        if k == ord('m') or k == ord('M'):\n",
    "            mode = not mode\n",
    "        elif k == 27:\n",
    "                break\n",
    "\n",
    "    cv2.destroyAllWindows()\n",
    "\n",
    "if __name__ == \"__main__\":\n",
    "    main()"
   ]
  },
  {
   "cell_type": "code",
   "execution_count": 40,
   "metadata": {},
   "outputs": [
    {
     "data": {
      "text/plain": [
       "109"
      ]
     },
     "execution_count": 40,
     "metadata": {},
     "output_type": "execute_result"
    }
   ],
   "source": [
    "ord('m')"
   ]
  }
 ],
 "metadata": {
  "kernelspec": {
   "display_name": "Python 3",
   "language": "python",
   "name": "python3"
  }
 },
 "nbformat": 4,
 "nbformat_minor": 2
}
